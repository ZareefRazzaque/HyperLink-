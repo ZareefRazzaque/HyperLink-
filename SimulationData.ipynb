{
  "cells": [
    {
      "cell_type": "code",
      "execution_count": 1,
      "metadata": {
        "colab": {
          "base_uri": "https://localhost:8080/",
          "height": 206
        },
        "id": "02s61da3m0Ux",
        "outputId": "210de461-db85-4e3c-f13a-a5bbf5a9576d"
      },
      "outputs": [],
      "source": [
        "import csv\n",
        "import random\n",
        "import time\n",
        "\n",
        "# open the csv file\n",
        "with open('simul1.csv', 'a') as csvfile:\n",
        "    # create a csv writer object\n",
        "    \n",
        "    csvwriter = csv.writer(csvfile)\n",
        "    # create 5 columns\n",
        "    # column 1: random integers between 0 and 10\n",
        "    # column 2: random floating point numbers between 0 and 10\n",
        "    # column 3: random strings of length 5\n",
        "    # column 4: random boolean values\n",
        "    # column 5: random date in the format MM/DD/YYYY\n",
        "    while(True):\n",
        "      csvwriter.writerow([random.randint(0, 100),\n",
        "                          random.randint(0, 100),\n",
        "                          random.randint(0,100),\n",
        "                          random.randint(0,100),\n",
        "                          random.randint(0,100),\n",
        "                          random.randint(0,100),\n",
        "                          random.randint(0,100)\n",
        "                          ])\n",
        "      time.sleep(150)"
      ]
    }
  ],
  "metadata": {
    "colab": {
      "provenance": []
    },
    "kernelspec": {
      "display_name": "Python 3",
      "language": "python",
      "name": "python3"
    },
    "language_info": {
      "codemirror_mode": {
        "name": "ipython",
        "version": 3
      },
      "file_extension": ".py",
      "mimetype": "text/x-python",
      "name": "python",
      "nbconvert_exporter": "python",
      "pygments_lexer": "ipython3",
      "version": "3.10.6"
    },
    "vscode": {
      "interpreter": {
        "hash": "916dbcbb3f70747c44a77c7bcd40155683ae19c65e1c03b4aa3499c5328201f1"
      }
    }
  },
  "nbformat": 4,
  "nbformat_minor": 0
}
