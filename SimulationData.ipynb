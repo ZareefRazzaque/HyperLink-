{
  "nbformat": 4,
  "nbformat_minor": 0,
  "metadata": {
    "colab": {
      "provenance": []
    },
    "kernelspec": {
      "name": "python3",
      "display_name": "Python 3"
    },
    "language_info": {
      "name": "python"
    }
  },
  "cells": [
    {
      "cell_type": "code",
      "source": [
        "import csv\n",
        "import random\n",
        "import time\n",
        "\n",
        "# open the csv file\n",
        "with open('simul1.csv', 'a') as csvfile:\n",
        "    # create a csv writer object\n",
        "    \n",
        "    csvwriter = csv.writer(csvfile)\n",
        "    # create 5 columns\n",
        "    # column 1: random integers between 0 and 10\n",
        "    # column 2: random floating point numbers between 0 and 10\n",
        "    # column 3: random strings of length 5\n",
        "    # column 4: random boolean values\n",
        "    # column 5: random date in the format MM/DD/YYYY\n",
        "    while(True):\n",
        "      csvwriter.writerow([random.randint(0, 100),\n",
        "                          random.randint(0, 100),\n",
        "                          random.randint(0,100),\n",
        "                          random.randint(0,100),\n",
        "                          random.randint(0,100),\n",
        "                          random.randint(0,100),\n",
        "                          random.randint(0,100)\n",
        "                          ])\n",
        "      time.sleep(150)"
      ],
      "metadata": {
        "colab": {
          "base_uri": "https://localhost:8080/",
          "height": 206
        },
        "id": "02s61da3m0Ux",
        "outputId": "210de461-db85-4e3c-f13a-a5bbf5a9576d"
      },
      "execution_count": 15,
      "outputs": [
        {
          "output_type": "error",
          "ename": "KeyboardInterrupt",
          "evalue": "ignored",
          "traceback": [
            "\u001b[0;31m---------------------------------------------------------------------------\u001b[0m",
            "\u001b[0;31mKeyboardInterrupt\u001b[0m                         Traceback (most recent call last)",
            "\u001b[0;32m<ipython-input-15-3b83803c7d45>\u001b[0m in \u001b[0;36m<module>\u001b[0;34m\u001b[0m\n\u001b[1;32m     23\u001b[0m                           \u001b[0mrandom\u001b[0m\u001b[0;34m.\u001b[0m\u001b[0mrandint\u001b[0m\u001b[0;34m(\u001b[0m\u001b[0;36m0\u001b[0m\u001b[0;34m,\u001b[0m\u001b[0;36m100\u001b[0m\u001b[0;34m)\u001b[0m\u001b[0;34m\u001b[0m\u001b[0;34m\u001b[0m\u001b[0m\n\u001b[1;32m     24\u001b[0m                           ])\n\u001b[0;32m---> 25\u001b[0;31m       \u001b[0mtime\u001b[0m\u001b[0;34m.\u001b[0m\u001b[0msleep\u001b[0m\u001b[0;34m(\u001b[0m\u001b[0;36m150\u001b[0m\u001b[0;34m)\u001b[0m\u001b[0;34m\u001b[0m\u001b[0;34m\u001b[0m\u001b[0m\n\u001b[0m",
            "\u001b[0;31mKeyboardInterrupt\u001b[0m: "
          ]
        }
      ]
    }
  ]
}